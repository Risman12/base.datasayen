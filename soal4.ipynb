{
  "cells": [
    {
      "cell_type": "code",
      "execution_count": null,
      "metadata": {
        "id": "KdEKRSXQQtXj"
      },
      "outputs": [],
      "source": [
        "import matplotlib.pyplot as plt"
      ]
    },
    {
      "cell_type": "code",
      "execution_count": null,
      "metadata": {
        "colab": {
          "base_uri": "https://localhost:8080/"
        },
        "id": "vvNEy819Q5iz",
        "outputId": "c37d5abc-aea5-4f8b-bc68-10b447ca5630"
      },
      "outputs": [
        {
          "output_type": "stream",
          "name": "stdout",
          "text": [
            "======================= soal 1 =======================\n",
            "\n",
            "maka jumlah makanan yang pesanan adalah : 24\n",
            "maka harga semua makanan yang di pesan adalah : 545000\n"
          ]
        }
      ],
      "source": [
        "print('======================= soal 1 =======================')\n",
        "print()\n",
        "\n",
        "burger = 6\n",
        "pizza = 3\n",
        "dimsun = 4\n",
        "ekkado = 4\n",
        "milkshake = 2\n",
        "eskrim = 5\n",
        "juml =(burger + pizza + dimsun + ekkado + milkshake + eskrim)\n",
        "print(\"maka jumlah makanan yang pesanan adalah : \" + str (juml))\n",
        "juml =(burger * 24000) + (pizza * 52000)+(dimsun * 30000) + (ekkado * 7500)+ (milkshake * 10000) + (eskrim * 15000)\n",
        "print(\"maka harga semua makanan yang di pesan adalah : \" + str (juml))"
      ]
    },
    {
      "cell_type": "code",
      "execution_count": null,
      "metadata": {
        "colab": {
          "base_uri": "https://localhost:8080/",
          "height": 474
        },
        "id": "2ub5JNtJXR3T",
        "outputId": "3779dbf4-0d26-4106-d870-a08eaf2fc237"
      },
      "outputs": [
        {
          "output_type": "stream",
          "name": "stdout",
          "text": [
            "======================= soal 2 =======================\n",
            "\n",
            "maka jumlah makanan yang pesanan adalah : 0.25\n",
            "maka jumlah makanan yang pesanan adalah : 0.125\n",
            "maka jumlah makanan yang pesanan adalah : 0.16666666666666666\n",
            "maka jumlah makanan yang pesanan adalah : 0.16666666666666666\n",
            "maka jumlah makanan yang pesanan adalah : 0.08333333333333333\n",
            "maka jumlah makanan yang pesanan adalah : 0.20833333333333334\n"
          ]
        },
        {
          "output_type": "display_data",
          "data": {
            "text/plain": [
              "<Figure size 432x288 with 1 Axes>"
            ],
            "image/png": "[encoded data removed]"
          },
          "metadata": {}
        }
      ],
      "source": [
        "print('======================= soal 2 =======================')\n",
        "print()\n",
        "burger = 6\n",
        "pizza = 3\n",
        "dimsum = 4\n",
        "ekkado = 4\n",
        "milkshake = 2\n",
        "eskrim = 5\n",
        "\n",
        "juml1 =(burger / 24)\n",
        "print(\"maka jumlah makanan yang pesanan adalah : \" + str (juml1))\n",
        "juml2 =(pizza / 24)\n",
        "print(\"maka jumlah makanan yang pesanan adalah : \" + str (juml2))\n",
        "juml3 =(dimsum/ 24)\n",
        "print(\"maka jumlah makanan yang pesanan adalah : \" + str (juml3))\n",
        "juml4 =(ekkado / 24)\n",
        "print(\"maka jumlah makanan yang pesanan adalah : \" + str (juml4))\n",
        "juml5 =(milkshake / 24)\n",
        "print(\"maka jumlah makanan yang pesanan adalah : \" + str (juml5))\n",
        "juml6 =(eskrim / 24)\n",
        "print(\"maka jumlah makanan yang pesanan adalah : \" + str (juml6))\n",
        "\n",
        "fig = plt.figure()\n",
        "ax = fig.add_axes([0,0,1,1])\n",
        "ax.axis('equal')\n",
        "jurusan = ['burger','pizza','dimsun','ekkado','milkshake','eskrim']\n",
        "siswa = [0.25, 0.125, 0.166666, 0.166666, 0.0833333, 0.2083333]\n",
        "ax.pie(siswa,labels=jurusan,autopct= '%1.2f%%')\n",
        "plt.title(\"jumlah makanan yang di pesan\")\n",
        "plt.show()"
      ]
    },
    {
      "cell_type": "code",
      "execution_count": null,
      "metadata": {
        "colab": {
          "base_uri": "https://localhost:8080/"
        },
        "id": "gDbk7It9bwVP",
        "outputId": "44ba3976-6ba2-4ca6-d2f9-e9d6965a73ea"
      },
      "outputs": [
        {
          "output_type": "stream",
          "name": "stdout",
          "text": [
            "======================= soal 3 =======================\n",
            "\n",
            "ahmad\n",
            "maka jumlah belanjaan ahmad adalah  rp  150000.0\n",
            "maka total kembalian beni adalah   rp  50000.0\n",
            "\n",
            "beni\n",
            "maka jumlah belanjaan beni adalah  rp  89700.0\n",
            "maka total kembalian beni adalah   rp  60300.0\n",
            "\n",
            "citra\n",
            "maka jumlah belanjaan citra adalah  rp  56000\n",
            "maka total kembalian citra adalah   rp  4000\n",
            "\n",
            "dadang\n",
            "maka jumlah belanjaan dadang adalah  rp  66400.0\n",
            "maka total kembalian dadang adalah   rp  33600.0\n",
            "\n",
            "epen\n",
            "maka jumlah belanjaan epen adalah  rp  89300.0\n",
            "maka total kembalian epen adalah   rp  10700.0\n"
          ]
        }
      ],
      "source": [
        "print('======================= soal 3 =======================')\n",
        "print()\n",
        "print('ahmad')\n",
        "burger = 24000\n",
        "pizza = 52000\n",
        "juml1 =(0.70 * ((burger * 4) +(pizza * 2))) + (7.5 * 2000) -5000\n",
        "print(\"maka jumlah belanjaan ahmad adalah  rp  \" + str (juml1))\n",
        "juml2 = (200000 - juml1)\n",
        "print(\"maka total kembalian beni adalah   rp  \" + str (juml2))\n",
        "print()\n",
        "print('beni')\n",
        "dimsum = 3\n",
        "eskrim = 1\n",
        "Milkshake = 2\n",
        "juml3 =(0.70 * ((dimsum * 30000) + (eskrim * 15000) + (Milkshake * 10000 ))) + (4 * 1800) - 5000\n",
        "print(\"maka jumlah belanjaan beni adalah  rp  \" + str (juml3))\n",
        "juml2 = (150000 - juml3)\n",
        "print(\"maka total kembalian beni adalah   rp  \" + str (juml2))\n",
        "print()\n",
        "print('citra')\n",
        "eskrim = 3\n",
        "juml3 = ((eskrim * 15000 )) + (8 * 2000) - 5000\n",
        "print(\"maka jumlah belanjaan citra adalah  rp  \" + str (juml3))\n",
        "juml2 = (60000 - juml3)\n",
        "print(\"maka total kembalian citra adalah   rp  \" + str (juml2))\n",
        "print()\n",
        "print('dadang')\n",
        "burger1 = 2\n",
        "Dimsum = 1\n",
        "juml1 =(0.80 * ((burger1 * 24000) +(Dimsum * 30000))) + (5 * 1800) -5000\n",
        "print(\"maka jumlah belanjaan dadang adalah  rp  \" + str (juml1))\n",
        "juml2 = (100000 - juml1)\n",
        "print(\"maka total kembalian dadang adalah   rp  \" + str (juml2))\n",
        "print()\n",
        "print('epen')\n",
        "Ekkado = 4\n",
        "eskrim = 1\n",
        "Pizza = 1\n",
        "juml3 =(0.70 * ((Ekkado * 7500) + (eskrim * 15000) + (Pizza * 52000 ))) + (12 * 2200) - 5000\n",
        "print(\"maka jumlah belanjaan epen adalah  rp  \" + str (juml3))\n",
        "juml2 = (100000 - juml3)\n",
        "print(\"maka total kembalian epen adalah   rp  \" + str (juml2))"
      ]
    },
    {
      "cell_type": "code",
      "execution_count": null,
      "metadata": {
        "id": "s1QUabeIe_Zu",
        "colab": {
          "base_uri": "https://localhost:8080/"
        },
        "outputId": "ad925f05-9860-4061-be13-7826a5ae7a17"
      },
      "outputs": [
        {
          "output_type": "stream",
          "name": "stdout",
          "text": [
            "==================== soal 4 ====================\n",
            "\n",
            "maka jumlah belanjaan ahmad adalah  rp  65000.0\n",
            "maka jumlah belanjaan beni adalah  rp  42500.0\n",
            "maka jumlah belanjaan citra adalah  rp  18500.0\n",
            "maka jumlah belanjaan dadang adalah  rp  28400.0\n",
            "maka jumlah belanjaan epen adalah  rp  34100.0\n"
          ]
        }
      ],
      "source": [
        "print('==================== soal 4 ====================')\n",
        "print()\n",
        "burger = 24000\n",
        "pizza = 52000\n",
        "juml1 =(0.30 * ((burger * 4) +(pizza * 2))) + 5000\n",
        "print(\"maka jumlah belanjaan ahmad adalah  rp  \" + str (juml1))\n",
        "dimsum = 3\n",
        "eskrim = 1\n",
        "Milkshake = 2\n",
        "juml1 =(0.30 * ((dimsum * 30000) + (eskrim * 15000) + (Milkshake * 10000 ))) + 5000\n",
        "print(\"maka jumlah belanjaan beni adalah  rp  \" + str (juml1))\n",
        "eskrim = 3\n",
        "juml1 =(0.30 * ((eskrim * 15000 ))) + 5000\n",
        "print(\"maka jumlah belanjaan citra adalah  rp  \" + str (juml1))\n",
        "burger1 = 2\n",
        "Dimsum = 1\n",
        "juml1 =(0.30 *((burger1 * 24000) +(Dimsum * 30000))) + 5000\n",
        "print(\"maka jumlah belanjaan dadang adalah  rp  \" + str (juml1))\n",
        "Ekkado = 4\n",
        "eskrim = 1\n",
        "Pizza = 1\n",
        "juml1 =(0.30 * ((Ekkado * 7500) + (eskrim * 15000) + (Pizza * 52000 ))) + 5000\n",
        "print(\"maka jumlah belanjaan epen adalah  rp  \" + str (juml1))"
      ]
    },
    {
      "cell_type": "code",
      "source": [
        "print('==================== soal 5 ====================')\n",
        "print()\n",
        "a = 7.5\n",
        "b = 2000\n",
        "c = 4\n",
        "d = 1800\n",
        "e = 8\n",
        "f = 2000\n",
        "g = 5\n",
        "h = 1800\n",
        "i = 12\n",
        "j =2200\n",
        "juml = (a*b) + (c*d) + (e*f) + (g*h) + (i*j)\n",
        "print(\"maka semua jarak ongkir adalah  \" + str (juml))"
      ],
      "metadata": {
        "colab": {
          "base_uri": "https://localhost:8080/"
        },
        "id": "S5c3JOCqv5NF",
        "outputId": "be6aeeee-f5f0-4e54-e976-8e6a6b027549"
      },
      "execution_count": null,
      "outputs": [
        {
          "output_type": "stream",
          "name": "stdout",
          "text": [
            "==================== soal 5 ====================\n",
            "\n",
            "maka semua jarak ongkir adalah  73600.0\n"
          ]
        }
      ]
    }
  ],
  "metadata": {
    "colab": {
      "provenance": []
    },
    "kernelspec": {
      "display_name": "Python 3",
      "name": "python3"
    },
    "language_info": {
      "name": "python"
    }
  },
  "nbformat": 4,
  "nbformat_minor": 0
}